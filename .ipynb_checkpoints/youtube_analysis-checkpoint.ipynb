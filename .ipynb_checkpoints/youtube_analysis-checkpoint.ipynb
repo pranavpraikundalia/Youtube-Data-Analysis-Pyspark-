{
 "cells": [
  {
   "cell_type": "code",
   "execution_count": 1,
   "metadata": {},
   "outputs": [],
   "source": [
    "from pyspark import SparkContext \n",
    "from pyspark.sql import SQLContext\n",
    "import pandas as pd \n",
    "from pyspark.sql.types import *\n",
    "import matplotlib.pyplot as plt\n",
    "import numpy as np\n",
    "from pyspark.sql import SparkSession\n",
    "\n"
   ]
  },
  {
   "cell_type": "code",
   "execution_count": 2,
   "metadata": {},
   "outputs": [
    {
     "name": "stdout",
     "output_type": "stream",
     "text": [
      "+-----------+-------------+--------------------+--------------------+-----------+--------------------+--------------------+-------+------+--------+-------------+--------------------+-----------------+----------------+----------------------+--------------------+\n",
      "|   video_id|trending_date|               title|       channel_title|category_id|        publish_time|                tags|  views| likes|dislikes|comment_count|      thumbnail_link|comments_disabled|ratings_disabled|video_error_or_removed|         description|\n",
      "+-----------+-------------+--------------------+--------------------+-----------+--------------------+--------------------+-------+------+--------+-------------+--------------------+-----------------+----------------+----------------------+--------------------+\n",
      "|2kyS6SvSYSE|     17.14.11|WE WANT TO TALK A...|        CaseyNeistat|         22|2017-11-13T17:13:...|     SHANtell martin| 748374| 57527|    2966|        15954|https://i.ytimg.c...|            False|           False|                 False|SHANTELL'S CHANNE...|\n",
      "|1ZAPwfrtAFY|     17.14.11|The Trump Preside...|     LastWeekTonight|         24|2017-11-13T07:30:...|\"last week tonigh...|2418783| 97185|    6146|        12703|https://i.ytimg.c...|            False|           False|                 False|One year after th...|\n",
      "|5qpjK5DgCt4|     17.14.11|Racist Superman |...|        Rudy Mancuso|         23|2017-11-12T19:05:...|\"racist superman\"...|3191434|146033|    5339|         8181|https://i.ytimg.c...|            False|           False|                 False|WATCH MY PREVIOUS...|\n",
      "|puqaWrEC7tY|     17.14.11|Nickelback Lyrics...|Good Mythical Mor...|         24|2017-11-13T11:00:...|\"rhett and link\"|...| 343168| 10172|     666|         2146|https://i.ytimg.c...|            False|           False|                 False|Today we find out...|\n",
      "|d380meD0W0M|     17.14.11|I Dare You: GOING...|            nigahiga|         24|2017-11-12T18:01:...|\"ryan\"|\"higa\"|\"hi...|2095731|132235|    1989|        17518|https://i.ytimg.c...|            False|           False|                 False|I know it's been ...|\n",
      "|gHZ1Qz0KiKM|     17.14.11|2 Weeks with iPho...|            iJustine|         28|2017-11-13T19:07:...|\"ijustine\"|\"week ...| 119180|  9763|     511|         1434|https://i.ytimg.c...|            False|           False|                 False|Using the iPhone ...|\n",
      "|39idVpFF7NQ|     17.14.11|Roy Moore & Jeff ...| Saturday Night Live|         24|2017-11-12T05:37:...|\"SNL\"|\"Saturday N...|2103417| 15993|    2445|         1970|https://i.ytimg.c...|            False|           False|                 False|Embattled Alabama...|\n",
      "|nc99ccSXST0|     17.14.11|5 Ice Cream Gadge...|  CrazyRussianHacker|         28|2017-11-12T21:50:...|\"5 Ice Cream Gadg...| 817732| 23663|     778|         3432|https://i.ytimg.c...|            False|           False|                 False|Ice Cream Pint Co...|\n",
      "|jr9QtXwC9vc|     17.14.11|The Greatest Show...|    20th Century Fox|          1|2017-11-13T14:00:...|\"Trailer\"|\"Hugh J...| 826059|  3543|     119|          340|https://i.ytimg.c...|            False|           False|                 False|Inspired by the i...|\n",
      "|TUmyygCMMGA|     17.14.11|Why the rise of t...|                 Vox|         25|2017-11-13T13:45:...|\"vox.com\"|\"vox\"|\"...| 256426| 12654|    1363|         2368|https://i.ytimg.c...|            False|           False|                 False|For now, at least...|\n",
      "|9wRQljFNDW8|     17.14.11|Dion Lewis' 103-Y...|                 NFL|         17|2017-11-13T02:05:...|\"NFL\"|\"Football\"|...|  81377|   655|      25|          177|https://i.ytimg.c...|            False|           False|                 False|New England Patri...|\n",
      "|VifQlJit6A0|     17.14.11|(SPOILERS) 'Shiva...|                 amc|         24|2017-11-13T03:00:...|\"The Walking Dead...| 104578|  1576|     303|         1279|https://i.ytimg.c...|            False|           False|                 False|Shiva arrives jus...|\n",
      "|5E4ZBSInqUU|     17.14.11|Marshmello - Bloc...|          marshmello|         10|2017-11-13T17:00:...|\"marshmello\"|\"blo...| 687582|114188|    1333|         8371|https://i.ytimg.c...|            False|           False|                 False|WATCH SILENCE MUS...|\n",
      "|GgVmn66oK_A|     17.14.11|Which Countries A...|       NowThis World|         25|2017-11-12T14:00:...|\"nowthis\"|\"nowthi...| 544770|  7848|    1171|         3981|https://i.ytimg.c...|            False|           False|                 False|The world at larg...|\n",
      "|TaTleo4cOs8|     17.14.11|SHOPPING FOR NEW ...|     The king of DIY|         15|2017-11-12T18:30:...|\"shopping for new...| 207532|  7473|     246|         2120|https://i.ytimg.c...|            False|           False|                 False|Today we go shopp...|\n",
      "|kgaO45SyaO4|     17.14.11|    The New SpotMini|      BostonDynamics|         28|2017-11-13T20:09:...|\"Robots\"|\"Boston ...|  75752|  9419|      52|         1230|https://i.ytimg.c...|            False|           False|                 False|For more informat...|\n",
      "|ZAQs-ctOqXQ|     17.14.11|One Change That W...|             Cracked|         23|2017-11-12T17:00:...|\"pacific rim\"|\"pa...| 295639|  8011|     638|         1256|https://i.ytimg.c...|            False|           False|                 False|Pacific Rim was s...|\n",
      "|YVfyYrEmzgM|     17.14.11|How does your bod...|              TED-Ed|         27|2017-11-13T16:00:...|\"TED\"|\"TED-Ed\"|\"T...|  78044|  5398|      53|          385|https://i.ytimg.c...|            False|           False|                 False|Check out our Pat...|\n",
      "|eNSN6qet1kE|     17.14.11|HomeMade Electric...|         PeterSripol|         28|2017-11-13T15:30:...|\"ultralight\"|\"air...|  97007| 11963|      36|         2211|https://i.ytimg.c...|            False|           False|                 False|aaaannnd now to f...|\n",
      "|B5HORANmzHw|     17.14.11|Founding An Inbre...|             SciShow|         27|2017-11-12T22:00:...|\"SciShow\"|\"scienc...| 223871|  8421|     191|         1214|https://i.ytimg.c...|            False|           False|                 False|Thanks to 23AndMe...|\n",
      "+-----------+-------------+--------------------+--------------------+-----------+--------------------+--------------------+-------+------+--------+-------------+--------------------+-----------------+----------------+----------------------+--------------------+\n",
      "only showing top 20 rows\n",
      "\n"
     ]
    }
   ],
   "source": [
    "sparkcontext = SparkContext()\n",
    "sqlContext = SQLContext(sparkcontext)\n",
    "\n",
    "df_csv = sqlContext.read.format('csv').options(header='true', inferschema='true').load('USvideos.csv')\n",
    "df_csv.show()"
   ]
  },
  {
   "cell_type": "code",
   "execution_count": 4,
   "metadata": {},
   "outputs": [
    {
     "data": {
      "text/plain": [
       "[Row(id=['1', '2', '10', '15', '17', '18', '19', '20', '21', '22', '23', '24', '25', '26', '27', '28', '29', '30', '31', '32', '33', '34', '35', '36', '37', '38', '39', '40', '41', '42', '43', '44'], title=['Film & Animation', 'Autos & Vehicles', 'Music', 'Pets & Animals', 'Sports', 'Short Movies', 'Travel & Events', 'Gaming', 'Videoblogging', 'People & Blogs', 'Comedy', 'Entertainment', 'News & Politics', 'Howto & Style', 'Education', 'Science & Technology', 'Nonprofits & Activism', 'Movies', 'Anime/Animation', 'Action/Adventure', 'Classics', 'Comedy', 'Documentary', 'Drama', 'Family', 'Foreign', 'Horror', 'Sci-Fi/Fantasy', 'Thriller', 'Shorts', 'Shows', 'Trailers'])]"
      ]
     },
     "execution_count": 4,
     "metadata": {},
     "output_type": "execute_result"
    }
   ],
   "source": [
    "df_json = sqlContext.read.option(\"multiline\", \"true\").json(\"US_category_id.json\")\n",
    "cat = df_json.select('items.id', 'items.snippet.title').collect()\n",
    "cat"
   ]
  },
  {
   "cell_type": "code",
   "execution_count": 5,
   "metadata": {},
   "outputs": [
    {
     "name": "stdout",
     "output_type": "stream",
     "text": [
      "+------+--------------------+\n",
      "|cat_id|      category_title|\n",
      "+------+--------------------+\n",
      "|     1|    Film & Animation|\n",
      "|     2|    Autos & Vehicles|\n",
      "|    10|               Music|\n",
      "|    15|      Pets & Animals|\n",
      "|    17|              Sports|\n",
      "|    18|        Short Movies|\n",
      "|    19|     Travel & Events|\n",
      "|    20|              Gaming|\n",
      "|    21|       Videoblogging|\n",
      "|    22|      People & Blogs|\n",
      "|    23|              Comedy|\n",
      "|    24|       Entertainment|\n",
      "|    25|     News & Politics|\n",
      "|    26|       Howto & Style|\n",
      "|    27|           Education|\n",
      "|    28|Science & Technology|\n",
      "|    29|Nonprofits & Acti...|\n",
      "|    30|              Movies|\n",
      "|    31|     Anime/Animation|\n",
      "|    32|    Action/Adventure|\n",
      "+------+--------------------+\n",
      "only showing top 20 rows\n",
      "\n"
     ]
    }
   ],
   "source": [
    "ids_title = []\n",
    "for i in range(len(cat[0][0])):\n",
    "    ids_title.append((cat[0][0][i],cat[0][1][i]))\n",
    "schema_column = \"cat_id category_title\"\n",
    "fields = [StructField(field, StringType(), True) for field in schema_column.split()]\n",
    "schema = StructType(fields)\n",
    "\n",
    "df_category = sqlContext.createDataFrame(ids_title, schema)\n",
    "df_category.show()"
   ]
  },
  {
   "cell_type": "code",
   "execution_count": 6,
   "metadata": {},
   "outputs": [
    {
     "name": "stdout",
     "output_type": "stream",
     "text": [
      "+-----------+-------------+--------------------+--------------------+-----------+--------------------+--------------------+------+-----+--------+-------------+--------------------+-----------------+----------------+----------------------+--------------------+--------------+\n",
      "|   video_id|trending_date|               title|       channel_title|category_id|        publish_time|                tags| views|likes|dislikes|comment_count|      thumbnail_link|comments_disabled|ratings_disabled|video_error_or_removed|         description|category_title|\n",
      "+-----------+-------------+--------------------+--------------------+-----------+--------------------+--------------------+------+-----+--------+-------------+--------------------+-----------------+----------------+----------------------+--------------------+--------------+\n",
      "|TaTleo4cOs8|     17.14.11|SHOPPING FOR NEW ...|     The king of DIY|         15|2017-11-12T18:30:...|\"shopping for new...|207532| 7473|     246|         2120|https://i.ytimg.c...|            False|           False|                 False|Today we go shopp...|Pets & Animals|\n",
      "|-OK9i1_YYYc|     17.14.11|Animal Adventure ...|Animal Adventure ...|         15|2017-11-12T00:18:...|\"Giraffe\"|\"Zoo\"|\"...| 45455| 2282|      35|           17|https://i.ytimg.c...|            False|           False|                 False|November 2017 Gir...|Pets & Animals|\n",
      "|xfmipNU4Odc|     17.14.11|Edna's registered...|Hope For Paws - O...|         15|2017-11-10T18:02:...|              [none]|284666|16396|      81|          949|https://i.ytimg.c...|            False|           False|                 False|Please donate $5 ...|Pets & Animals|\n",
      "|qEEtzzi1EII|     17.14.11|Birthdays - Simon...|         Simon's Cat|         15|2017-11-09T13:34:...|\"cartoon\"|\"simons...|426078|19323|     245|          945|https://i.ytimg.c...|            False|           False|                 False|Watch Simon's Cat...|Pets & Animals|\n",
      "|YHDbsyyjld0|     17.14.11|A Tropical Island...|         Kitten Lady|         15|2017-11-09T23:44:...|\"lanai\"|\"sanctuar...| 46571| 4250|      16|          408|https://i.ytimg.c...|            False|           False|                 False|Lanai Cat Sanctua...|Pets & Animals|\n",
      "|TaTleo4cOs8|     17.15.11|SHOPPING FOR NEW ...|     The king of DIY|         15|2017-11-12T18:30:...|\"shopping for new...|279092| 8339|     315|         2371|https://i.ytimg.c...|            False|           False|                 False|Here is what i bo...|Pets & Animals|\n",
      "|-OK9i1_YYYc|     17.15.11|Animal Adventure ...|Animal Adventure ...|         15|2017-11-12T00:18:...|\"Giraffe\"|\"Zoo\"|\"...| 45965| 2284|      35|           17|https://i.ytimg.c...|            False|           False|                 False|November 2017 Gir...|Pets & Animals|\n",
      "|xfmipNU4Odc|     17.15.11|Edna's registered...|Hope For Paws - O...|         15|2017-11-10T18:02:...|              [none]|317304|17023|      84|          939|https://i.ytimg.c...|            False|           False|                 False|Please donate $5 ...|Pets & Animals|\n",
      "|qEEtzzi1EII|     17.15.11|Birthdays - Simon...|         Simon's Cat|         15|2017-11-09T13:34:...|\"cartoon\"|\"simons...|467804|19962|     268|          953|https://i.ytimg.c...|            False|           False|                 False|Watch Simon's Cat...|Pets & Animals|\n",
      "|FEjZiCPuvqQ|     17.16.11|A New Hybrid Cat ...|      Big Cat Rescue|         15|2017-11-14T15:00:...|\"animal\"|\"animal ...| 30576| 1741|      27|          283|https://i.ytimg.c...|            False|           False|                 False|Meet our newest r...|Pets & Animals|\n",
      "|N0tmF4j4K6g|     17.16.11|What Does It Take...|           BBC Earth|         15|2017-11-15T10:00:...|\"BBC\"|\"BBC Worldw...| 31910| 1699|      13|          142|https://i.ytimg.c...|            False|           False|                 False|Filming wildlife ...|Pets & Animals|\n",
      "|TaTleo4cOs8|     17.16.11|SHOPPING FOR NEW ...|     The king of DIY|         15|2017-11-12T18:30:...|\"shopping for new...|289923| 8480|     321|         2011|https://i.ytimg.c...|            False|           False|                 False|Here is what i bo...|Pets & Animals|\n",
      "|-OK9i1_YYYc|     17.16.11|Animal Adventure ...|Animal Adventure ...|         15|2017-11-12T00:18:...|\"Giraffe\"|\"Zoo\"|\"...| 46260| 2286|      35|           17|https://i.ytimg.c...|            False|           False|                 False|November 2017 Gir...|Pets & Animals|\n",
      "|xfmipNU4Odc|     17.16.11|Edna's registered...|Hope For Paws - O...|         15|2017-11-10T18:02:...|              [none]|339256|17267|      85|          948|https://i.ytimg.c...|            False|           False|                 False|Please donate $5 ...|Pets & Animals|\n",
      "|9PhM-zCmTFs|     17.17.11|DIY - Simon's Cat...|         Simon's Cat|         15|2017-11-16T15:03:...|\"diy\"|\"electric d...|178977|14355|      87|          429|https://i.ytimg.c...|            False|           False|                 False|'A curious cat he...|Pets & Animals|\n",
      "|FEjZiCPuvqQ|     17.17.11|A New Hybrid Cat ...|      Big Cat Rescue|         15|2017-11-14T15:00:...|\"animal\"|\"animal ...| 34968| 1834|      27|          317|https://i.ytimg.c...|            False|           False|                 False|Meet our newest r...|Pets & Animals|\n",
      "|N0tmF4j4K6g|     17.17.11|What Does It Take...|           BBC Earth|         15|2017-11-15T10:00:...|\"BBC\"|\"BBC Worldw...| 39490| 1932|      14|          159|https://i.ytimg.c...|            False|           False|                 False|Filming wildlife ...|Pets & Animals|\n",
      "|TaTleo4cOs8|     17.17.11|SHOPPING FOR NEW ...|     The king of DIY|         15|2017-11-12T18:30:...|\"shopping for new...|296542| 8575|     328|         2018|https://i.ytimg.c...|            False|           False|                 False|Here is what i bo...|Pets & Animals|\n",
      "|9PhM-zCmTFs|     17.18.11|DIY - Simon's Cat...|         Simon's Cat|         15|2017-11-16T15:03:...|\"diy\"|\"electric d...|336907|18768|     177|          603|https://i.ytimg.c...|            False|           False|                 False|'A curious cat he...|Pets & Animals|\n",
      "|FEjZiCPuvqQ|     17.18.11|A New Hybrid Cat ...|      Big Cat Rescue|         15|2017-11-14T15:00:...|\"animal\"|\"animal ...| 39363| 1955|      31|          367|https://i.ytimg.c...|            False|           False|                 False|Meet our newest r...|Pets & Animals|\n",
      "+-----------+-------------+--------------------+--------------------+-----------+--------------------+--------------------+------+-----+--------+-------------+--------------------+-----------------+----------------+----------------------+--------------------+--------------+\n",
      "only showing top 20 rows\n",
      "\n"
     ]
    }
   ],
   "source": [
    "join_csv_json = df_csv.join(df_category, df_csv.category_id == df_category.cat_id).drop(df_category.cat_id).select('*')\n",
    "join_csv_json.show()"
   ]
  },
  {
   "cell_type": "code",
   "execution_count": 7,
   "metadata": {},
   "outputs": [
    {
     "name": "stdout",
     "output_type": "stream",
     "text": [
      "+--------------------+------------+------------+-------------+\n",
      "|      category_title|commentCount|dislikeCount|    likeCount|\n",
      "+--------------------+------------+------------+-------------+\n",
      "|               Shows|     95117.0|     24508.0|    1082639.0|\n",
      "|           Education|   5442242.0|   1351972.0|  4.9257772E7|\n",
      "|              Gaming| 1.4740713E7|   9184466.0|  6.9038284E7|\n",
      "|       Entertainment| 7.3566498E7| 4.2987663E7| 5.30516491E8|\n",
      "|     Travel & Events|    911511.0|    340427.0|    4836246.0|\n",
      "|Science & Technology| 1.1989926E7|   4548402.0|  8.2532638E7|\n",
      "|              Sports| 1.1192155E7|   5133551.0|  9.8621211E7|\n",
      "|       Howto & Style|  2.314955E7|   5473899.0| 1.62880075E8|\n",
      "|Nonprofits & Acti...|   4808797.0|   3310381.0|  1.4815646E7|\n",
      "|    Film & Animation|  1.788706E7|   6075148.0| 1.65997476E8|\n",
      "|      People & Blogs| 2.4778032E7| 1.0187901E7| 1.86615999E8|\n",
      "|     News & Politics|   6039433.0|   4180049.0|  1.8151033E7|\n",
      "|      Pets & Animals|   2660705.0|    527379.0|  1.9370702E7|\n",
      "|    Autos & Vehicles|    784447.0|    243010.0|    4245656.0|\n",
      "|               Music|1.25296396E8| 5.1179008E7|1.416838584E9|\n",
      "|              Comedy| 2.2545582E7|   7230391.0| 2.16346746E8|\n",
      "+--------------------+------------+------------+-------------+\n",
      "\n"
     ]
    }
   ],
   "source": [
    "category_data =join_csv_json.groupby(join_csv_json.category_title).agg({\"likes\":\"sum\", \"dislikes\":\"sum\", \"comment_count\" : \"sum\"}).withColumnRenamed(\"sum(likes)\", \"likeCount\").withColumnRenamed(\"sum(dislikes)\", \"dislikeCount\").withColumnRenamed(\"sum(comment_count)\", \"commentCount\")\n",
    "category_data.show()"
   ]
  },
  {
   "cell_type": "code",
   "execution_count": null,
   "metadata": {},
   "outputs": [],
   "source": [
    "category_data.coalesce(1).write.format('csv').option('header', 'true').csv('category_sum.csv')\n"
   ]
  },
  {
   "cell_type": "code",
   "execution_count": 8,
   "metadata": {},
   "outputs": [
    {
     "data": {
      "text/plain": [
       "(1082639.0,\n",
       " 49257772.0,\n",
       " 69038284.0,\n",
       " 530516491.0,\n",
       " 4836246.0,\n",
       " 82532638.0,\n",
       " 98621211.0,\n",
       " 162880075.0,\n",
       " 14815646.0,\n",
       " 165997476.0,\n",
       " 186615999.0,\n",
       " 18151033.0,\n",
       " 19370702.0,\n",
       " 4245656.0,\n",
       " 1416838584.0,\n",
       " 216346746.0)"
      ]
     },
     "execution_count": 8,
     "metadata": {},
     "output_type": "execute_result"
    }
   ],
   "source": [
    "titles = [i.category_title for i in category_data.select(\"category_title\").collect()]\n",
    "data_dislikes = [i.dislikeCount for i in category_data.select(\"dislikeCount\").collect()]\n",
    "data_likes = [i.likeCount for i in category_data.select(\"likeCount\").collect()]\n",
    "data_comment = [i.commentCount for i in category_data.select(\"commentCount\").collect()]\n",
    "tuple(data_likes)"
   ]
  },
  {
   "cell_type": "code",
   "execution_count": 9,
   "metadata": {},
   "outputs": [],
   "source": [
    "\n",
    "def plotBar(titles, data_likes,data_dislikes, data_comment):\n",
    "    n_groups = len(titles)\n",
    "    # create plot\n",
    "    fig, ax = plt.subplots(figsize =(20,10))\n",
    "    index = np.arange(n_groups)\n",
    "    bar_width = 0.2\n",
    "    opacity = 0.8\n",
    "\n",
    "    rects1 = plt.bar(index, tuple(data_likes), bar_width,\n",
    "                     alpha=opacity,\n",
    "                     color='b',\n",
    "                     label='Likes')\n",
    "\n",
    "    rects2 = plt.bar(index + bar_width, tuple(data_dislikes), bar_width,\n",
    "                     alpha=opacity,\n",
    "                     color='g',\n",
    "                     label='Dislikes')\n",
    "\n",
    "    rects1 = plt.bar(index+2*bar_width, tuple(data_comment), bar_width,\n",
    "                     alpha=opacity,\n",
    "                     color='r',\n",
    "                     label='Comments')\n",
    "\n",
    "\n",
    "    plt.xlabel('Category')\n",
    "    plt.ylabel('Count')\n",
    "    plt.title('Like/Dislike/Comment analysis by Category')\n",
    "    plt.xticks(index + bar_width, tuple(titles))\n",
    "    plt.legend()\n",
    "    plt.setp(ax.get_xticklabels(), rotation=30, horizontalalignment='right')\n",
    "    plt.show()"
   ]
  },
  {
   "cell_type": "code",
   "execution_count": 10,
   "metadata": {},
   "outputs": [
    {
     "data": {
      "image/png": "[encoded data removed]",
      "text/plain": [
       "<Figure size 1440x720 with 1 Axes>"
      ]
     },
     "metadata": {
      "needs_background": "light"
     },
     "output_type": "display_data"
    }
   ],
   "source": [
    "plotBar(titles, data_likes,data_dislikes, data_comment)"
   ]
  },
  {
   "cell_type": "code",
   "execution_count": null,
   "metadata": {},
   "outputs": [],
   "source": []
  }
 ],
 "metadata": {
  "kernelspec": {
   "display_name": "Python 3",
   "language": "python",
   "name": "python3"
  },
  "language_info": {
   "codemirror_mode": {
    "name": "ipython",
    "version": 3
   },
   "file_extension": ".py",
   "mimetype": "text/x-python",
   "name": "python",
   "nbconvert_exporter": "python",
   "pygments_lexer": "ipython3",
   "version": "3.7.0"
  }
 },
 "nbformat": 4,
 "nbformat_minor": 2
}
